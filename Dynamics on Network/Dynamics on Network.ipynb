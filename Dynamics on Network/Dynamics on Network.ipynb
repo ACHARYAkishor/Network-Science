{
 "cells": [
  {
   "cell_type": "markdown",
   "id": "f24dbf85",
   "metadata": {},
   "source": [
    "# Dynamics on Network\n",
    "\n",
    "It deals with the change in state of nodes and edges over time throught interactions with other nodes but static network topology. Eg: Cellular automata, Boolean networks, artificial neural networks (without learning aspect), etc.\n",
    "\n",
    "There are many real world scenarios of these class of dynamicl networks (static topology but dynamical states):\n",
    "- Regulatory relationships among genes and proteins, where nodes can be genes (protein) and state can be their expression.\n",
    "- Ecological interactions among the species, where nodes are species and node states can be population.\n",
    "- Disease infection spreading, where nodes can be individual and node state their epidemological ststus (S, I, R).\n",
    "- Information/culture propogation, where nodes are individual/community."
   ]
  },
  {
   "cell_type": "markdown",
   "id": "aaf76e69",
   "metadata": {},
   "source": [
    "In NetworkX dictationary is used behind the data-structure, hence the state of nodes (& edges) and act of dynamically updating (iterating)  those states can be easily performed by manupaliting the dictationay. \n",
    "\n",
    "\n",
    "Ref (Book): https://milneopentextbooks.org/introduction-to-the-modeling-and-analysis-of-complex-systems/"
   ]
  },
  {
   "cell_type": "markdown",
   "id": "90b3e2d6",
   "metadata": {},
   "source": [
    "### Simulating dynamics on network\n",
    "\n",
    "**Situation- 1**: Majority rule dynamics\n",
    "- Nodes represent individual, edges represent their symmetric connections for information sharing.\n",
    "- Each individual takes either 0 or 1 as the state i.e. initial state of individual is random.\n",
    "- Each individual changes their state to a majority choice within their local neighbourhood. \n",
    "- State gets updated simultaneously on all individuals in the network.\n",
    "- A pycxsimulator has been used to observe the state dynamic of the node."
   ]
  },
  {
   "cell_type": "code",
   "execution_count": 1,
   "id": "28a80ab9",
   "metadata": {},
   "outputs": [],
   "source": [
    "import networkx as nx\n",
    "import numpy as np\n",
    "import matplotlib.pyplot as plt\n",
    "plt.style.use(['science','notebook'])"
   ]
  },
  {
   "cell_type": "code",
   "execution_count": 2,
   "id": "73100d06",
   "metadata": {},
   "outputs": [],
   "source": [
    "\n",
    "#lets initialize, update and observe our network\n",
    "def initialize():\n",
    "    global g, nextg\n",
    "    g = nx.karate_club_graph()\n",
    "    g.pos = nx.spring_layout(g) # setting the position of network for future use\n",
    "    for i in g.nodes():\n",
    "        g.nodes[i]['state'] = 1 if random() < .5 else 0\n",
    "        #The for loop iterates over each node in the graph and sets its 'state' attribute \n",
    "        # to either 1 or 0 with equal probability, using the random() method  from pylab\n",
    "        nextg = g.copy() # nextg graph object is initialize as a copy of g\n",
    "        \n",
    "\n",
    "def update():\n",
    "    global g, nextg # g for current state and nextg for next state\n",
    "    for i in g.nodes(): # this loops over all the nodes in the network\n",
    "        count = g.nodes[i]['state'] # for each node i, variable count is initialize with node´s state\n",
    "        for j in g.neighbors(i): # returns an iterator over the neighbors of a given node n in a graph\n",
    "            count += g.nodes[j]['state'] # adds the state of each neighbour to count\n",
    "            # this gives the total number of nodes in the neighbour of i in same state to i\n",
    "        ratio = count/ (g.degree(i) + 1.0) #state ratio\n",
    "        # Ratio of: total number of nodes in the neighbour of i that are in the same state as i\n",
    "        # to total number of nodes in the neighbourhood of i,including itself \n",
    "        # Based on this state ratio the next state of i is decided as below:\n",
    "        nextg.nodes[i]['state'] = 1 if ratio > 0.5\\\n",
    "        else 0 if ratio < 0.5\\\n",
    "        else 1 if random() < 0.5 else 0 \n",
    "        # the local majority is above 0.5 hence next state is set to 1\n",
    "        # the local majority is below 0.5 hence next state is set to 0\n",
    "        # for tie-breaker a coin toss\n",
    "    g, nextg = nextg, g # updating the global graph g and nextg by swaping their values\n",
    "    #which will be used for next iteration\n",
    "    \n",
    "def observe():\n",
    "    global g, nextg\n",
    "    g.pos = nx.spring_layout(g)\n",
    "    cla() # clears the current axis of any previous plot\n",
    "    nx.draw(g, cmap = cm.binary, vmin = 0, vmax = 1,\n",
    "        node_color = [g.nodes[i]['state'] for i in g.nodes()],\n",
    "        pos = g.pos)\n",
    "# cmap = cm.binary: sets the color map to a binary color map where 0 is white and 1 is black\n",
    "# vmin = 0, vmax = 1: parameters set the minimum and maximum values for the color map to 0 and 1, respectively.\n",
    "# node_color: sets the color of each node in the graph according to its state, where 0 is white and 1 is black.\n",
    "# This sets the positions of the nodes in the graph to their previously calculated positions g.pos\n"
   ]
  },
  {
   "cell_type": "code",
   "execution_count": 3,
   "id": "38e3dde7",
   "metadata": {},
   "outputs": [],
   "source": [
    "#below imports are useful to run pycxsimulator\n",
    "import matplotlib\n",
    "matplotlib.use('TkAgg')\n",
    "from pylab import *\n",
    "import pycxsimulator \n",
    "\n",
    "# running the simulation in pycxsimulator\n",
    "pycxsimulator.GUI().start(func=[initialize, observe, update])"
   ]
  }
 ],
 "metadata": {
  "kernelspec": {
   "display_name": "Python 3",
   "language": "python",
   "name": "python3"
  },
  "language_info": {
   "codemirror_mode": {
    "name": "ipython",
    "version": 3
   },
   "file_extension": ".py",
   "mimetype": "text/x-python",
   "name": "python",
   "nbconvert_exporter": "python",
   "pygments_lexer": "ipython3",
   "version": "3.8.8"
  }
 },
 "nbformat": 4,
 "nbformat_minor": 5
}
